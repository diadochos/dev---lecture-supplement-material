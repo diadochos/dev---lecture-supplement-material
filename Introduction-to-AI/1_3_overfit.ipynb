{
 "cells": [
  {
   "cell_type": "code",
   "execution_count": 31,
   "metadata": {},
   "outputs": [
    {
     "data": {
      "text/plain": [
       "<Figure size 640x480 with 0 Axes>"
      ]
     },
     "metadata": {},
     "output_type": "display_data"
    }
   ],
   "source": [
    "import numpy as np\n",
    "import matplotlib.pyplot as plt\n",
    "from numpy.polynomial.polynomial import Polynomial\n",
    "from pathlib import Path\n",
    "\n",
    "# Ensure the directory exists\n",
    "Path('figures/1').mkdir(parents=True, exist_ok=True)\n",
    "\n",
    "# Define the true function\n",
    "def true_function(u):\n",
    "    return 10 * np.sin(2 * np.pi * u)\n",
    "\n",
    "# Generate data points\n",
    "np.random.seed(0)\n",
    "u = np.random.rand(30)\n",
    "y = true_function(u) + np.random.normal(0, 2, 30)\n",
    "\n",
    "# Fit polynomials\n",
    "p2 = Polynomial.fit(u, y, 2)\n",
    "p4 = Polynomial.fit(u, y, 4)\n",
    "p16 = Polynomial.fit(u, y, 16)\n",
    "\n",
    "# Polynomial functions\n",
    "def poly_func(p, u):\n",
    "    return p(u)\n",
    "\n",
    "# Define colors\n",
    "colors = {\n",
    "    'green': '#5DAE50',\n",
    "    'blue': '#3674BB',\n",
    "    'light blue': '#84C1FF',\n",
    "    'light light blue': '#B0DFFF',\n",
    "    'yellow': '#FFE65E',\n",
    "    'orange': '#FF8C42',\n",
    "    'dark orange': '#C4571B',\n",
    "    'purple': '#D48DFF'\n",
    "}\n",
    "\n",
    "# Plot function to avoid repetition\n",
    "def plot_with_fit(u, y, fit_poly, fit_label, fit_color, file_name):\n",
    "    plt.scatter(u, y, color=colors['blue'], marker='o', label='data points')\n",
    "    u_plot = np.linspace(0, 1, 1000)\n",
    "    plt.plot(u_plot, true_function(u_plot), color=colors['blue'], linestyle='--', linewidth=2, label='true')\n",
    "    plt.plot(u_plot, poly_func(fit_poly, u_plot), color=fit_color, linewidth=2, label=fit_label)\n",
    "    plt.ylim(-15, 15)\n",
    "    plt.legend()\n",
    "    plt.savefig(file_name)\n",
    "    plt.clf()\n",
    "\n",
    "# Plot all fits together\n",
    "plt.scatter(u, y, color=colors['blue'], marker='o', label='data points')\n",
    "u_plot = np.linspace(0, 1, 1000)\n",
    "plt.plot(u_plot, true_function(u_plot), color=colors['blue'], linestyle='--', linewidth=2, label='true')\n",
    "plt.plot(u_plot, poly_func(p2, u_plot), color=colors['purple'], linewidth=2, label='$p = 2$, underfit')\n",
    "plt.plot(u_plot, poly_func(p4, u_plot), color=colors['orange'], linewidth=2, label='$p = 4$, balanced')\n",
    "plt.plot(u_plot, poly_func(p16, u_plot), color=colors['green'], linewidth=2, label='$p = 16$, overfit')\n",
    "plt.ylim(-15, 15)\n",
    "plt.legend()\n",
    "plt.savefig('figures/1/1_3_overfit_all.png')\n",
    "plt.clf()\n",
    "\n",
    "# Plot individual fits\n",
    "plot_with_fit(u, y, p2, '$p = 2$, underfit', colors['purple'], 'figures/1/1_3_overfit_p2.png')\n",
    "plot_with_fit(u, y, p4, '$p = 4$, balanced', colors['orange'], 'figures/1/1_3_overfit_p4.png')\n",
    "plot_with_fit(u, y, p16, '$p = 16$, overfit', colors['green'], 'figures/1/1_3_overfit_p16.png')"
   ]
  }
 ],
 "metadata": {
  "kernelspec": {
   "display_name": ".venv",
   "language": "python",
   "name": "python3"
  },
  "language_info": {
   "codemirror_mode": {
    "name": "ipython",
    "version": 3
   },
   "file_extension": ".py",
   "mimetype": "text/x-python",
   "name": "python",
   "nbconvert_exporter": "python",
   "pygments_lexer": "ipython3",
   "version": "3.11.1"
  }
 },
 "nbformat": 4,
 "nbformat_minor": 2
}
