{
 "cells": [
  {
   "cell_type": "code",
   "execution_count": null,
   "metadata": {},
   "outputs": [],
   "source": [
    "%%capture\n",
    "## [TEMPLATE BEGIN]\n",
    "## おまじない：実行中のノートブック名からOUTPUT_DIRを決めるコード\n",
    "!pip install ipynbname\n",
    "from pathlib import Path\n",
    "from IPython import get_ipython; ip = get_ipython()\n",
    "if '__vsc_ipynb_file__' in ip.user_ns:\n",
    "    THIS_NOTEBOOK_PATH = Path(ip.user_ns['__vsc_ipynb_file__'])\n",
    "else:\n",
    "    import ipynbname; THIS_NOTEBOOK_PATH = Path(ipynbname.path())\n",
    "OUTPUT_DIR = Path(\"figures\") / THIS_NOTEBOOK_PATH.stem\n",
    "## [TEMPLATE END]"
   ]
  },
  {
   "cell_type": "code",
   "execution_count": null,
   "metadata": {},
   "outputs": [],
   "source": []
  }
 ],
 "metadata": {
  "language_info": {
   "name": "python"
  }
 },
 "nbformat": 4,
 "nbformat_minor": 2
}
